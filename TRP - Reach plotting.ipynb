{
 "cells": [
  {
   "cell_type": "code",
   "execution_count": 9,
   "id": "832866a5",
   "metadata": {},
   "outputs": [],
   "source": [
    "import numpy as np\n",
    "import matplotlib.pyplot as plt\n",
    "from scipy.optimize import curve_fit\n"
   ]
  },
  {
   "cell_type": "code",
   "execution_count": 2,
   "id": "9c19adfa",
   "metadata": {},
   "outputs": [
    {
     "name": "stdout",
     "output_type": "stream",
     "text": [
      "\n",
      "Please wait a moment while I gather a list of all available modules...\n",
      "\n"
     ]
    },
    {
     "name": "stderr",
     "output_type": "stream",
     "text": [
      "C:\\ProgramData\\Anaconda3\\lib\\site-packages\\IPython\\kernel\\__init__.py:12: ShimWarning: The `IPython.kernel` package has been deprecated since IPython 4.0.You should import from ipykernel or jupyter_client instead.\n",
      "  warn(\"The `IPython.kernel` package has been deprecated since IPython 4.0.\"\n",
      "WARNING: AstropyDeprecationWarning: The private astropy._erfa module has been made into its own package, pyerfa, which is a dependency of astropy and can be imported directly using \"import erfa\" [astropy._erfa]\n",
      "C:\\ProgramData\\Anaconda3\\lib\\pkgutil.py:93: MatplotlibDeprecationWarning: \n",
      "The matplotlib.compat module was deprecated in Matplotlib 3.3 and will be removed two minor releases later.\n",
      "  __import__(info.name)\n",
      "C:\\ProgramData\\Anaconda3\\lib\\site-packages\\nltk\\twitter\\__init__.py:20: UserWarning: The twython library has not been installed. Some functionality from the twitter package will not be available.\n",
      "  warnings.warn(\n"
     ]
    },
    {
     "name": "stdout",
     "output_type": "stream",
     "text": [
      "Update LANGUAGE_CODES (inside config/base.py) if a new translation has been added to Spyder\n"
     ]
    },
    {
     "name": "stderr",
     "output_type": "stream",
     "text": [
      "QSS file sucessfuly loaded.\n",
      "Found application patches to be applied.\n",
      "No QCoreApplication instance found. Application patches not applied. You have to call load_stylesheet function after instantiation of QApplication to take effect. \n",
      "C:\\ProgramData\\Anaconda3\\lib\\pkgutil.py:108: VisibleDeprecationWarning: zmq.eventloop.minitornado is deprecated in pyzmq 14.0 and will be removed.\n",
      "    Install tornado itself to use zmq with the tornado IOLoop.\n",
      "    \n",
      "  yield from walk_packages(path, info.name+'.', onerror)\n"
     ]
    },
    {
     "name": "stdout",
     "output_type": "stream",
     "text": [
      "Cython              codecs              modulefinder        sortedcontainers\n",
      "IPython             codeop              more_itertools      soupsieve\n",
      "OpenSSL             collections         mpmath              sphinx\n",
      "PIL                 colorama            msgpack             sphinxcontrib\n",
      "PyQt5               colorsys            msilib              spyder\n",
      "TBB                 commctrl            msvcrt              spyder_kernels\n",
      "__future__          compileall          multipledispatch    sqlalchemy\n",
      "_abc                comtypes            multiprocessing     sqlite3\n",
      "_aix_support        concurrent          munkres             sre_compile\n",
      "_ast                conda               mypy_extensions     sre_constants\n",
      "_asyncio            conda_build         nacl                sre_parse\n",
      "_bisect             conda_content_trust navigator_updater   ssl\n",
      "_black_version      conda_env           nbclassic           sspi\n",
      "_blake2             conda_pack          nbclient            sspicon\n",
      "_bootlocale         conda_package_handling nbconvert           stat\n",
      "_bootsubprocess     conda_token         nbformat            statistics\n",
      "_bz2                conda_verify        nest_asyncio        statsmodels\n",
      "_cffi_backend       configparser        netbios             storemagic\n",
      "_codecs             contextlib          netrc               string\n",
      "_codecs_cn          contextlib2         networkx            stringprep\n",
      "_codecs_hk          contextvars         nltk                struct\n",
      "_codecs_iso2022     cookiecutter        nntplib             subprocess\n",
      "_codecs_jp          copy                nose                sunau\n",
      "_codecs_kr          copyreg             notebook            symbol\n",
      "_codecs_tw          crypt               nt                  sympy\n",
      "_collections        cryptography        ntpath              sympyprinting\n",
      "_collections_abc    csv                 ntsecuritycon       symtable\n",
      "_compat_pickle      ctypes              nturl2path          sys\n",
      "_compression        curl                numba               sysconfig\n",
      "_contextvars        curses              numbers             tables\n",
      "_csv                cwp                 numexpr             tabnanny\n",
      "_ctypes             cycler              numpy               tarfile\n",
      "_ctypes_test        cython              numpydoc            tbb\n",
      "_daal4py            cythonmagic         odbc                tblib\n",
      "_datetime           cytoolz             olefile             telnetlib\n",
      "_decimal            daal4py             onedal              tempfile\n",
      "_distutils_hack     dask                opcode              terminado\n",
      "_elementtree        dataclasses         openpyxl            test\n",
      "_functools          datetime            operator            test_data\n",
      "_hashlib            dateutil            optparse            test_pycosat\n",
      "_heapq              dbi                 os                  testpath\n",
      "_imp                dbm                 packaging           tests\n",
      "_io                 dde                 pandas              text_unidecode\n",
      "_json               debugpy             pandocfilters       textdistance\n",
      "_locale             decimal             paramiko            textwrap\n",
      "_lsprof             decorator           parser              this\n",
      "_lzma               defusedxml          parso               threading\n",
      "_markupbase         diff_match_patch    partd               threadpoolctl\n",
      "_md5                difflib             past                three_merge\n",
      "_msi                dis                 path                tifffile\n",
      "_multibytecodec     distributed         pathlib             time\n",
      "_multiprocessing    distutils           pathlib2            timeit\n",
      "_nsis               doctest             pathspec            timer\n",
      "_onedal4py_host     docutils            patsy               tinycss\n",
      "_opcode             email               pdb                 tkinter\n",
      "_operator           encodings           pep8                tlz\n",
      "_osx_support        ensurepip           perfmon             token\n",
      "_overlapped         entrypoints         pexpect             tokenize\n",
      "_peg_parser         enum                pickle              toml\n",
      "_pickle             erfa                pickleshare         toolz\n",
      "_py_abc             errno               pickletools         tornado\n",
      "_pydecimal          et_xmlfile          pip                 tqdm\n",
      "_pyio               fastcache           pipes               trace\n",
      "_pyrsistent_version faulthandler        pkg_resources       traceback\n",
      "_pytest             filecmp             pkginfo             tracemalloc\n",
      "_queue              fileinput           pkgutil             traitlets\n",
      "_random             filelock            platform            tty\n",
      "_sha1               flake8              plistlib            turtle\n",
      "_sha256             flask               pluggy              turtledemo\n",
      "_sha3               fnmatch             ply                 typed_ast\n",
      "_sha512             fontTools           poplib              types\n",
      "_signal             formatter           posixpath           typing\n",
      "_sitebuiltins       fractions           poyo                typing_extensions\n",
      "_socket             fsspec              pprint              ujson\n",
      "_sqlite3            ftplib              profile             unicodecsv\n",
      "_sre                functools           prometheus_client   unicodedata\n",
      "_ssl                future              prompt_toolkit      unidecode\n",
      "_stat               gc                  pstats              unittest\n",
      "_statistics         genericpath         psutil              urllib\n",
      "_string             getopt              pty                 urllib3\n",
      "_strptime           getpass             ptyprocess          uu\n",
      "_struct             gettext             pvectorc            uuid\n",
      "_symtable           gevent              py                  venv\n",
      "_system_path        glob                py_compile          warnings\n",
      "_testbuffer         glob2               pyclbr              watchdog\n",
      "_testcapi           graphlib            pycodestyle         wave\n",
      "_testconsole        greenlet            pycosat             wcwidth\n",
      "_testimportmultiple gzip                pycparser           weakref\n",
      "_testinternalcapi   h5py                pycurl              webbrowser\n",
      "_testmultiphase     hashlib             pydoc               webencodings\n",
      "_thread             heapdict            pydoc_data          werkzeug\n",
      "_threading_local    heapq               pydocstyle          wheel\n",
      "_tkinter            hmac                pyexpat             whichcraft\n",
      "_tracemalloc        html                pyflakes            widgetsnbextension\n",
      "_uuid               html5lib            pygments            win2kras\n",
      "_warnings           http                pylab               win32api\n",
      "_weakref            idlelib             pylint              win32clipboard\n",
      "_weakrefset         idna                pyls_spyder         win32com\n",
      "_win32sysloader     imagecodecs         pylsp               win32con\n",
      "_winapi             imageio             pylsp_black         win32console\n",
      "_winxptheme         imagesize           pylsp_jsonrpc       win32cred\n",
      "_xxsubinterpreters  imaplib             pyodbc              win32crypt\n",
      "_yaml               imghdr              pyparsing           win32cryptcon\n",
      "_zoneinfo           imp                 pyreadline          win32ctypes\n",
      "abc                 importlib           pyrsistent          win32event\n",
      "adodbapi            importlib_metadata  pytest              win32evtlog\n",
      "afxres              inflection          pythoncom           win32evtlogutil\n",
      "aifc                iniconfig           pytz                win32file\n",
      "alabaster           inspect             pywin               win32gui\n",
      "anaconda_navigator  intervaltree        pywin32_bootstrap   win32gui_struct\n",
      "anaconda_project    io                  pywin32_testutil    win32help\n",
      "antigravity         ipaddress           pywintypes          win32inet\n",
      "anyio               ipykernel           pywt                win32inetcon\n",
      "appdirs             ipykernel_launcher  pyximport           win32job\n",
      "argh                ipython_genutils    qdarkstyle          win32lz\n",
      "argon2              ipywidgets          qstylizer           win32net\n",
      "argparse            isapi               qtawesome           win32netcon\n",
      "array               isort               qtconsole           win32pdh\n",
      "arrow               isympy              qtpy                win32pdhquery\n",
      "asn1crypto          itertools           queue               win32pdhutil\n",
      "ast                 itsdangerous        quopri              win32pipe\n",
      "astroid             jdcal               random              win32print\n",
      "astropy             jedi                rasutil             win32process\n",
      "async_generator     jinja2              re                  win32profile\n",
      "asynchat            jinja2_time         readline            win32ras\n",
      "asyncio             joblib              regcheck            win32rcparser\n",
      "asyncore            json                regex               win32security\n",
      "atexit              json5               regutil             win32service\n",
      "atomicwrites        jsonschema          repo_cli            win32serviceutil\n",
      "attr                jupyter             reprlib             win32timezone\n",
      "audioop             jupyter_client      requests            win32trace\n",
      "autopep8            jupyter_console     rlcompleter         win32traceutil\n",
      "autoreload          jupyter_core        rmagic              win32transaction\n",
      "babel               jupyter_server      rope                win32ts\n",
      "backcall            jupyterlab          rtree               win32ui\n",
      "backports           jupyterlab_pygments ruamel_yaml         win32uiole\n",
      "base64              jupyterlab_server   run                 win32verstamp\n",
      "bcrypt              jupyterlab_widgets  runpy               win32wnet\n",
      "bdb                 jwt                 sched               win_inet_pton\n",
      "binaryornot         keyring             scipy               win_unicode_console\n",
      "binascii            keyword             scripts             wincertstore\n",
      "binhex              kiwisolver          seaborn             winerror\n",
      "binstar_client      lazy_object_proxy   secrets             winioctlcon\n",
      "bisect              lib2to3             select              winnt\n",
      "bitarray            libarchive          selectors           winperf\n",
      "bkcharts            libfuturize         send2trash          winpty\n",
      "black               libpasteurize       servicemanager      winreg\n",
      "blackd              lief                setuptools          winsound\n",
      "bleach              linecache           shelve              winxpgui\n",
      "blib2to3            llvmlite            shlex               winxptheme\n",
      "bokeh               locale              shutil              wrapt\n",
      "boto                locket              signal              wsgiref\n",
      "bottleneck          logging             simplegeneric       xdrlib\n",
      "brotli              lxml                singledispatch      xlrd\n",
      "bs4                 lzma                sip                 xlsxwriter\n",
      "builtins            mailbox             sipconfig           xlwings\n",
      "bz2                 mailcap             sipdistutils        xlwt\n",
      "cProfile            markupsafe          site                xml\n",
      "cached_property     marshal             six                 xmlrpc\n",
      "calendar            math                skimage             xmltodict\n",
      "certifi             matplotlib          sklearn             xxsubtype\n",
      "cffi                matplotlib_inline   sklearnex           yaml\n",
      "cgi                 mccabe              slugify             yapf\n",
      "cgitb               menuinst            smtpd               yapftests\n",
      "chardet             mimetypes           smtplib             zict\n",
      "charset_normalizer  mistune             sndhdr              zipapp\n",
      "chunk               mkl                 sniffio             zipfile\n",
      "click               mkl_fft             snowballstemmer     zipimport\n",
      "cloudpickle         mkl_random          socket              zipp\n",
      "clyent              mmap                socketserver        zlib\n",
      "cmath               mmapfile            socks               zmq\n",
      "cmd                 mmsystem            sockshandler        zoneinfo\n",
      "code                mock                sortedcollections   zope\n",
      "\n",
      "Enter any module name to get more help.  Or, type \"modules spam\" to search\n",
      "for modules whose name or summary contain the string \"spam\".\n",
      "\n"
     ]
    }
   ],
   "source": [
    "help(\"modules\")"
   ]
  },
  {
   "cell_type": "code",
   "execution_count": 3,
   "id": "97181947",
   "metadata": {},
   "outputs": [],
   "source": [
    "xdata = [ 1, 2,3,4,5,10,20,30,40,50,100,150,200,250]\n",
    "ydata = [0.05,0.06,0.07,0.08,0.09,0.20,0.25,0.28,0.33,0.40,0.60,0.70,0.73,0.75]"
   ]
  },
  {
   "cell_type": "code",
   "execution_count": 6,
   "id": "7b557775",
   "metadata": {},
   "outputs": [
    {
     "data": {
      "text/plain": [
       "[<matplotlib.lines.Line2D at 0x1bc3be98790>]"
      ]
     },
     "execution_count": 6,
     "metadata": {},
     "output_type": "execute_result"
    }
   ],
   "source": [
    "xdata = np.asarray(xdata)\n",
    "ydata = np.asarray(ydata)\n",
    "plt.plot(xdata, ydata, 'o')\n"
   ]
  },
  {
   "cell_type": "code",
   "execution_count": 11,
   "id": "5f9cf125",
   "metadata": {},
   "outputs": [
    {
     "data": {
      "text/plain": [
       "[<matplotlib.lines.Line2D at 0x1bc3d032700>]"
      ]
     },
     "execution_count": 11,
     "metadata": {},
     "output_type": "execute_result"
    },
    {
     "data": {
      "image/png": "[encoded data removed]",
      "text/plain": [
       "<Figure size 432x288 with 1 Axes>"
      ]
     },
     "metadata": {
      "needs_background": "light"
     },
     "output_type": "display_data"
    }
   ],
   "source": [
    "%matplotlib inline  \n",
    "plt.plot(xdata, ydata, 'o')"
   ]
  },
  {
   "cell_type": "code",
   "execution_count": 22,
   "id": "d5837fd8",
   "metadata": {},
   "outputs": [
    {
     "name": "stdout",
     "output_type": "stream",
     "text": [
      "0.9497802839014228\n",
      "58.50529910371317\n",
      "[[2.12114373e-03 4.41002407e-01]\n",
      " [4.41002407e-01 1.02464109e+02]]\n"
     ]
    },
    {
     "data": {
      "text/plain": [
       "<matplotlib.legend.Legend at 0x1bc3cac2670>"
      ]
     },
     "execution_count": 22,
     "metadata": {},
     "output_type": "execute_result"
    },
    {
     "data": {
      "image/png": "[encoded data removed]",
      "text/plain": [
       "<Figure size 432x288 with 1 Axes>"
      ]
     },
     "metadata": {
      "needs_background": "light"
     },
     "output_type": "display_data"
    }
   ],
   "source": [
    "def Nonlinear (x, A, B):\n",
    "    return (A - (B /(x+ (B/A))))\n",
    "\n",
    "#where ydata denotes reach, x denotes TRP, A and B are two parameters estimated from the reach curve\n",
    "#and may vary depending on the campaign and the minimum frequency at which reach is measured.\n",
    "#This functional form guarantees that zero TRP corresponds to zero reach, and for positive b reach\n",
    "#is increasing in TRP. A is the limit of the reach curve, which is the theoretical reach of the TV plan\n",
    "#if an infinite amount of TRPs are bought.\n",
    "\n",
    "parameters_N, covariance_N = curve_fit(Nonlinear, xdata, ydata)\n",
    "fit_NA = parameters_N[0]\n",
    "fit_NB = parameters_N[1]\n",
    "\n",
    "\n",
    "print(fit_NA)\n",
    "print(fit_NB)\n",
    "\n",
    "print(covariance_N)\n",
    "\n",
    "\n",
    "fit_y = Nonlinear(xdata, fit_NA, fit_NB)\n",
    "plt.plot(xdata, ydata, 'o', label='data')\n",
    "plt.plot(xdata, fit_y, '-', label='fit')\n",
    "plt.legend()"
   ]
  },
  {
   "cell_type": "code",
   "execution_count": 23,
   "id": "e5694414",
   "metadata": {},
   "outputs": [
    {
     "name": "stdout",
     "output_type": "stream",
     "text": [
      "0.6090645567684746\n",
      "0.7426524964911666\n",
      "0.0317827895323908\n",
      "-0.0008831379874454364\n",
      "[[ 5.76375654e-03  2.60219421e-03 -3.12936232e-04  4.42205570e-05]\n",
      " [ 2.60219421e-03  7.03222712e-03  2.67261207e-05  2.10750191e-05]\n",
      " [-3.12936232e-04  2.67261207e-05  2.60312735e-05 -2.31066162e-06]\n",
      " [ 4.42205570e-05  2.10750191e-05 -2.31066162e-06  3.54238953e-07]]\n"
     ]
    },
    {
     "name": "stderr",
     "output_type": "stream",
     "text": [
      "C:\\Users\\antcajka\\AppData\\Local\\Temp/ipykernel_61160/2011263583.py:2: RuntimeWarning: overflow encountered in exp\n",
      "  return A * np.exp (-np.exp(B-(G*x))-D*x)\n"
     ]
    },
    {
     "data": {
      "text/plain": [
       "<matplotlib.legend.Legend at 0x1bc3d56b340>"
      ]
     },
     "execution_count": 23,
     "metadata": {},
     "output_type": "execute_result"
    },
    {
     "data": {
      "image/png": "[encoded data removed]",
      "text/plain": [
       "<Figure size 432x288 with 1 Axes>"
      ]
     },
     "metadata": {
      "needs_background": "light"
     },
     "output_type": "display_data"
    }
   ],
   "source": [
    "def MWF_Modified_Gompertz_Function (x, A, B, G, D):\n",
    "    return A * np.exp (-np.exp(B-(G*x))-D*x)\n",
    "\n",
    "#https://static.googleusercontent.com/media/research.google.com/no//pubs/archive/40426.pdf\n",
    "\n",
    "parameters, covariance = curve_fit(MWF_Modified_Gompertz_Function, xdata, ydata)\n",
    "\n",
    "fit_A = parameters[0]\n",
    "fit_B = parameters[1]\n",
    "fit_C = parameters[2]\n",
    "fit_D = parameters[3]\n",
    "print(fit_A)\n",
    "print(fit_B)\n",
    "print(fit_C)\n",
    "print(fit_D)\n",
    "\n",
    "print(covariance)\n",
    "\n",
    "\n",
    "\n",
    "fit_y = MWF_Modified_Gompertz_Function(xdata, fit_A, fit_B, fit_C, fit_D)\n",
    "plt.plot(xdata, ydata, 'o', label='data')\n",
    "plt.plot(xdata, fit_y, '-', label='fit')\n",
    "plt.legend()\n",
    "\n",
    "\n",
    "\n",
    "\n",
    "\n"
   ]
  },
  {
   "cell_type": "code",
   "execution_count": null,
   "id": "5fca8fb4",
   "metadata": {},
   "outputs": [],
   "source": []
  }
 ],
 "metadata": {
  "kernelspec": {
   "display_name": "Python 3 (ipykernel)",
   "language": "python",
   "name": "python3"
  },
  "language_info": {
   "codemirror_mode": {
    "name": "ipython",
    "version": 3
   },
   "file_extension": ".py",
   "mimetype": "text/x-python",
   "name": "python",
   "nbconvert_exporter": "python",
   "pygments_lexer": "ipython3",
   "version": "3.9.7"
  }
 },
 "nbformat": 4,
 "nbformat_minor": 5
}
